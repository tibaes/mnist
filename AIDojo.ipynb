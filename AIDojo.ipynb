{
  "nbformat": 4,
  "nbformat_minor": 0,
  "metadata": {
    "colab": {
      "name": "AIDojo.ipynb",
      "provenance": [],
      "collapsed_sections": [],
      "authorship_tag": "ABX9TyMpPWmk3lCfK0WXMULPUGRY",
      "include_colab_link": true
    },
    "kernelspec": {
      "name": "python3",
      "display_name": "Python 3"
    },
    "accelerator": "GPU"
  },
  "cells": [
    {
      "cell_type": "markdown",
      "metadata": {
        "id": "view-in-github",
        "colab_type": "text"
      },
      "source": [
        "<a href=\"https://colab.research.google.com/github/tibaes/mnist/blob/master/AIDojo.ipynb\" target=\"_parent\"><img src=\"https://colab.research.google.com/assets/colab-badge.svg\" alt=\"Open In Colab\"/></a>"
      ]
    },
    {
      "cell_type": "markdown",
      "metadata": {
        "id": "q5bpDn4WxXJ9",
        "colab_type": "text"
      },
      "source": [
        "# Preparação"
      ]
    },
    {
      "cell_type": "code",
      "metadata": {
        "id": "RWbn8MJ_OsSG",
        "colab_type": "code",
        "colab": {}
      },
      "source": [
        "!pip install --upgrade pip\n",
        "!pip install tensorflow==2.0.0"
      ],
      "execution_count": 0,
      "outputs": []
    },
    {
      "cell_type": "code",
      "metadata": {
        "id": "mt_UEesRO4Ws",
        "colab_type": "code",
        "colab": {}
      },
      "source": [
        "import tensorflow as tf\n",
        "import matplotlib.pyplot as plt"
      ],
      "execution_count": 0,
      "outputs": []
    },
    {
      "cell_type": "code",
      "metadata": {
        "id": "Nkns49RIPCEy",
        "colab_type": "code",
        "colab": {
          "base_uri": "https://localhost:8080/",
          "height": 34
        },
        "outputId": "a2a2e750-54f4-4ff1-f321-4ed1f8769003"
      },
      "source": [
        "tf.__version__"
      ],
      "execution_count": 2,
      "outputs": [
        {
          "output_type": "execute_result",
          "data": {
            "text/plain": [
              "'2.0.0'"
            ]
          },
          "metadata": {
            "tags": []
          },
          "execution_count": 2
        }
      ]
    },
    {
      "cell_type": "markdown",
      "metadata": {
        "id": "RVQ5ymt7Oyw8",
        "colab_type": "text"
      },
      "source": [
        "# Explorando MNIST"
      ]
    },
    {
      "cell_type": "code",
      "metadata": {
        "id": "a0pws-dbyDFk",
        "colab_type": "code",
        "colab": {}
      },
      "source": [
        "mnist = tf.keras.datasets.mnist"
      ],
      "execution_count": 0,
      "outputs": []
    },
    {
      "cell_type": "code",
      "metadata": {
        "id": "BDT6R9N-yzYn",
        "colab_type": "code",
        "colab": {}
      },
      "source": [
        "(x_train, y_train), (x_test, y_test) = mnist.load_data()\n",
        "x_train, x_test = x_train / 255.0, x_test / 255.0"
      ],
      "execution_count": 0,
      "outputs": []
    },
    {
      "cell_type": "code",
      "metadata": {
        "id": "376j003u2Rll",
        "colab_type": "code",
        "colab": {}
      },
      "source": [
        "def show_number(index=0):\n",
        "    plt.imshow(x_train[index], cmap='gray')\n",
        "    plt.title('LABEL: ' + str(y_train[index]))\n",
        "    plt.show()"
      ],
      "execution_count": 0,
      "outputs": []
    },
    {
      "cell_type": "code",
      "metadata": {
        "id": "v0imWLjHzcgh",
        "colab_type": "code",
        "colab": {
          "base_uri": "https://localhost:8080/",
          "height": 281
        },
        "outputId": "276622b7-2b0c-4252-e4a5-5226363ce406"
      },
      "source": [
        "show_number(6)"
      ],
      "execution_count": 27,
      "outputs": [
        {
          "output_type": "display_data",
          "data": {
            "image/png": "[encoded data removed]",
            "text/plain": [
              "<Figure size 432x288 with 1 Axes>"
            ]
          },
          "metadata": {
            "tags": []
          }
        }
      ]
    },
    {
      "cell_type": "markdown",
      "metadata": {
        "id": "4v05MBf-43Vk",
        "colab_type": "text"
      },
      "source": [
        "# MultiLayer Perceptron"
      ]
    },
    {
      "cell_type": "code",
      "metadata": {
        "id": "Qms460M344x_",
        "colab_type": "code",
        "colab": {}
      },
      "source": [
        "model = tf.keras.Sequential([\n",
        "    tf.keras.layers.Flatten(input_shape=(28, 28)),\n",
        "    tf.keras.layers.Dense(128, activation='relu'),\n",
        "    tf.keras.layers.Dense(10)\n",
        "])"
      ],
      "execution_count": 0,
      "outputs": []
    },
    {
      "cell_type": "code",
      "metadata": {
        "id": "ZGEFgtzy9vC8",
        "colab_type": "code",
        "colab": {}
      },
      "source": [
        "model.compile(\n",
        "    optimizer='adam',\n",
        "    loss=tf.keras.losses.SparseCategoricalCrossentropy(from_logits=True),\n",
        "    metrics=['accuracy']\n",
        ")"
      ],
      "execution_count": 0,
      "outputs": []
    },
    {
      "cell_type": "code",
      "metadata": {
        "id": "A_dt6S5aB20G",
        "colab_type": "code",
        "colab": {
          "base_uri": "https://localhost:8080/",
          "height": 221
        },
        "outputId": "3f298322-607e-448d-cd39-35dabc296135"
      },
      "source": [
        "model.fit(x_train, y_train, epochs=5)"
      ],
      "execution_count": 9,
      "outputs": [
        {
          "output_type": "stream",
          "text": [
            "Train on 60000 samples\n",
            "Epoch 1/5\n",
            "60000/60000 [==============================] - 5s 82us/sample - loss: 0.2550 - accuracy: 0.9289\n",
            "Epoch 2/5\n",
            "60000/60000 [==============================] - 5s 76us/sample - loss: 0.1146 - accuracy: 0.9658\n",
            "Epoch 3/5\n",
            "60000/60000 [==============================] - 5s 79us/sample - loss: 0.0789 - accuracy: 0.9765\n",
            "Epoch 4/5\n",
            "60000/60000 [==============================] - 4s 74us/sample - loss: 0.0603 - accuracy: 0.9815\n",
            "Epoch 5/5\n",
            "60000/60000 [==============================] - 4s 73us/sample - loss: 0.0448 - accuracy: 0.9857\n"
          ],
          "name": "stdout"
        },
        {
          "output_type": "execute_result",
          "data": {
            "text/plain": [
              "<tensorflow.python.keras.callbacks.History at 0x7f1ad6705860>"
            ]
          },
          "metadata": {
            "tags": []
          },
          "execution_count": 9
        }
      ]
    },
    {
      "cell_type": "code",
      "metadata": {
        "id": "YPfrhiqcB7ZG",
        "colab_type": "code",
        "colab": {
          "base_uri": "https://localhost:8080/",
          "height": 51
        },
        "outputId": "37ef1677-f330-4cae-9a25-a2ff233897e0"
      },
      "source": [
        "model.evaluate(x_test, y_test, verbose=2)"
      ],
      "execution_count": 10,
      "outputs": [
        {
          "output_type": "stream",
          "text": [
            "10000/1 - 0s - loss: 0.0381 - accuracy: 0.9770\n"
          ],
          "name": "stdout"
        },
        {
          "output_type": "execute_result",
          "data": {
            "text/plain": [
              "[0.0754308887485182, 0.977]"
            ]
          },
          "metadata": {
            "tags": []
          },
          "execution_count": 10
        }
      ]
    },
    {
      "cell_type": "code",
      "metadata": {
        "id": "s3ZfR9HiCE6q",
        "colab_type": "code",
        "colab": {
          "base_uri": "https://localhost:8080/",
          "height": 238
        },
        "outputId": "171b3e8d-cacc-4de8-f1e7-1a06986632bb"
      },
      "source": [
        "model.predict(x_test)"
      ],
      "execution_count": 13,
      "outputs": [
        {
          "output_type": "execute_result",
          "data": {
            "text/plain": [
              "array([[ -4.093006  ,  -9.435723  ,   1.7818097 , ...,  11.152223  ,\n",
              "         -1.4895074 ,  -1.7571721 ],\n",
              "       [ -8.118649  ,   5.37008   ,  12.189348  , ..., -16.8873    ,\n",
              "          0.61923903, -19.035694  ],\n",
              "       [ -5.56914   ,   4.606239  ,  -2.2491834 , ...,  -3.282343  ,\n",
              "         -1.5610151 ,  -6.6709127 ],\n",
              "       ...,\n",
              "       [-11.805668  , -10.544835  , -10.032448  , ...,  -2.782434  ,\n",
              "         -0.42293108,   0.6867801 ],\n",
              "       [ -3.6910038 , -10.140229  , -10.868074  , ..., -10.548413  ,\n",
              "          4.028998  , -12.001316  ],\n",
              "       [ -2.2610574 , -14.282231  ,  -2.5718997 , ..., -11.641529  ,\n",
              "         -7.267847  ,  -9.860098  ]], dtype=float32)"
            ]
          },
          "metadata": {
            "tags": []
          },
          "execution_count": 13
        }
      ]
    },
    {
      "cell_type": "code",
      "metadata": {
        "id": "ajevAWTmCLWt",
        "colab_type": "code",
        "colab": {}
      },
      "source": [
        "probability_model = tf.keras.Sequential([\n",
        "    model,\n",
        "    tf.keras.layers.Softmax()\n",
        "])"
      ],
      "execution_count": 0,
      "outputs": []
    },
    {
      "cell_type": "code",
      "metadata": {
        "id": "a0gzcSwoDKOV",
        "colab_type": "code",
        "colab": {
          "base_uri": "https://localhost:8080/",
          "height": 255
        },
        "outputId": "777dff93-7311-4aa9-a6cc-0d8aae35e9a5"
      },
      "source": [
        "probability_model(x_test)"
      ],
      "execution_count": 17,
      "outputs": [
        {
          "output_type": "execute_result",
          "data": {
            "text/plain": [
              "<tf.Tensor: id=30291, shape=(10000, 10), dtype=float32, numpy=\n",
              "array([[2.39339414e-07, 1.14472409e-09, 8.51949662e-05, ...,\n",
              "        9.99845624e-01, 3.23369636e-06, 2.47430626e-06],\n",
              "       [1.51309953e-09, 1.09130470e-03, 9.98889863e-01, ...,\n",
              "        2.35336625e-13, 9.43371015e-06, 2.74571117e-14],\n",
              "       [3.79506964e-05, 9.96163487e-01, 1.04968424e-03, ...,\n",
              "        3.73562536e-04, 2.08894047e-03, 1.26102959e-05],\n",
              "       ...,\n",
              "       [7.84658363e-12, 2.76854806e-11, 4.62148063e-11, ...,\n",
              "        6.50760370e-08, 6.88875161e-07, 2.08969163e-06],\n",
              "       [1.13466996e-07, 1.79475906e-10, 8.66778663e-11, ...,\n",
              "        1.19325716e-10, 2.55637366e-04, 2.79091108e-11],\n",
              "       [8.09429039e-08, 4.86911835e-13, 5.93174470e-08, ...,\n",
              "        6.82795530e-12, 5.41698297e-10, 4.05470137e-11]], dtype=float32)>"
            ]
          },
          "metadata": {
            "tags": []
          },
          "execution_count": 17
        }
      ]
    },
    {
      "cell_type": "code",
      "metadata": {
        "id": "Syehij6MDMzu",
        "colab_type": "code",
        "colab": {
          "base_uri": "https://localhost:8080/",
          "height": 34
        },
        "outputId": "8766d16c-805d-4af9-ce0e-50f54e35e2de"
      },
      "source": [
        "model.predict(x_test[0].reshape(1, 28, 28)).argmax()"
      ],
      "execution_count": 21,
      "outputs": [
        {
          "output_type": "execute_result",
          "data": {
            "text/plain": [
              "7"
            ]
          },
          "metadata": {
            "tags": []
          },
          "execution_count": 21
        }
      ]
    },
    {
      "cell_type": "code",
      "metadata": {
        "id": "SwQDqmdQDi68",
        "colab_type": "code",
        "colab": {
          "base_uri": "https://localhost:8080/",
          "height": 34
        },
        "outputId": "f662a375-f677-4373-9d9d-f132efcd9bcd"
      },
      "source": [
        "y_test[0]"
      ],
      "execution_count": 22,
      "outputs": [
        {
          "output_type": "execute_result",
          "data": {
            "text/plain": [
              "7"
            ]
          },
          "metadata": {
            "tags": []
          },
          "execution_count": 22
        }
      ]
    },
    {
      "cell_type": "code",
      "metadata": {
        "id": "gjQCNApFDyEZ",
        "colab_type": "code",
        "colab": {
          "base_uri": "https://localhost:8080/",
          "height": 34
        },
        "outputId": "c46345c3-e30e-4a39-db64-3196319e841c"
      },
      "source": [
        "x_test[0].shape"
      ],
      "execution_count": 24,
      "outputs": [
        {
          "output_type": "execute_result",
          "data": {
            "text/plain": [
              "(28, 28)"
            ]
          },
          "metadata": {
            "tags": []
          },
          "execution_count": 24
        }
      ]
    },
    {
      "cell_type": "code",
      "metadata": {
        "id": "ZmA7GjLED2am",
        "colab_type": "code",
        "colab": {
          "base_uri": "https://localhost:8080/",
          "height": 34
        },
        "outputId": "7e5287d4-1c41-4101-b38a-f4ab9a717a64"
      },
      "source": [
        "x_test[0].reshape(1, 28, 28).shape"
      ],
      "execution_count": 26,
      "outputs": [
        {
          "output_type": "execute_result",
          "data": {
            "text/plain": [
              "(1, 28, 28)"
            ]
          },
          "metadata": {
            "tags": []
          },
          "execution_count": 26
        }
      ]
    },
    {
      "cell_type": "code",
      "metadata": {
        "id": "Yj3-55r2D-pf",
        "colab_type": "code",
        "colab": {}
      },
      "source": [
        ""
      ],
      "execution_count": 0,
      "outputs": []
    }
  ]
}